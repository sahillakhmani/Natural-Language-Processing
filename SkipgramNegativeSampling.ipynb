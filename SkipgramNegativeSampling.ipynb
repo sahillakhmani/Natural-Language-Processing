{
  "nbformat": 4,
  "nbformat_minor": 0,
  "metadata": {
    "colab": {
      "provenance": [],
      "mount_file_id": "1G5Mg9RnGBA_qA2hcZsxT5YOuO7s0xbBq",
      "authorship_tag": "ABX9TyOsPU4HhTVcOSNKWLElsAWM",
      "include_colab_link": true
    },
    "kernelspec": {
      "name": "python3",
      "display_name": "Python 3"
    },
    "language_info": {
      "name": "python"
    }
  },
  "cells": [
    {
      "cell_type": "markdown",
      "metadata": {
        "id": "view-in-github",
        "colab_type": "text"
      },
      "source": [
        "<a href=\"https://colab.research.google.com/github/sahillakhmani/Natural-Language-Processing/blob/main/SkipgramNegativeSampling.ipynb\" target=\"_parent\"><img src=\"https://colab.research.google.com/assets/colab-badge.svg\" alt=\"Open In Colab\"/></a>"
      ]
    },
    {
      "cell_type": "markdown",
      "source": [
        "# Assignment 4/5"
      ],
      "metadata": {
        "id": "fCsBJtD0zM1P"
      }
    },
    {
      "cell_type": "code",
      "execution_count": null,
      "metadata": {
        "colab": {
          "base_uri": "https://localhost:8080/"
        },
        "id": "2hxRDAWwU-RO",
        "outputId": "a6e1aad1-da92-4817-865d-f4e7c8f3e25e"
      },
      "outputs": [
        {
          "output_type": "stream",
          "name": "stderr",
          "text": [
            "Downloading...\n",
            "From (original): https://drive.google.com/uc?id=1PVA5IR4bAn7RulAeuSgxRBNMtmRGXaUm\n",
            "From (redirected): https://drive.google.com/uc?id=1PVA5IR4bAn7RulAeuSgxRBNMtmRGXaUm&confirm=t&uuid=6c40aba2-3113-42e2-9308-c57ec45db900\n",
            "To: /content/corpus.zip\n",
            "100%|██████████| 1.00G/1.00G [00:10<00:00, 92.0MB/s]\n"
          ]
        }
      ],
      "source": [
        "import os\n",
        "import json\n",
        "import gdown\n",
        "import zipfile\n",
        "from multiprocessing import Pool, cpu_count\n",
        "\n",
        "\n",
        "# Step 1: Download the zipped corpus from Google Drive\n",
        "def download_from_drive(drive_link, output_zip):\n",
        "    gdown.download(drive_link, output_zip, quiet=False)\n",
        "\n",
        "# Step 2: Extract the ZIP file\n",
        "def extract_zip_file(zip_file, extract_to):\n",
        "    with zipfile.ZipFile(zip_file, 'r') as zip_ref:\n",
        "        zip_ref.extractall(extract_to)\n",
        "\n",
        "def main():\n",
        "    drive_link = 'https://drive.google.com/uc?id=1PVA5IR4bAn7RulAeuSgxRBNMtmRGXaUm'\n",
        "    output_zip = 'corpus.zip'\n",
        "    extract_to = 'extracted_corpus'\n",
        "    download_from_drive(drive_link, output_zip)\n",
        "\n",
        "    # Extract the ZIP file\n",
        "    extract_zip_file(output_zip, extract_to)\n",
        "\n",
        "if __name__ == \"__main__\":\n",
        "    main()\n"
      ]
    },
    {
      "cell_type": "code",
      "source": [
        "from google.colab import drive\n",
        "drive.mount('/content/drive')"
      ],
      "metadata": {
        "colab": {
          "base_uri": "https://localhost:8080/"
        },
        "id": "edFdi3dHQu6N",
        "outputId": "6f42f7fe-6253-4e76-aa6a-0918a0efffce"
      },
      "execution_count": null,
      "outputs": [
        {
          "output_type": "stream",
          "name": "stdout",
          "text": [
            "Drive already mounted at /content/drive; to attempt to forcibly remount, call drive.mount(\"/content/drive\", force_remount=True).\n"
          ]
        }
      ]
    },
    {
      "cell_type": "code",
      "source": [
        "import os\n",
        "import json\n",
        "from multiprocessing import Pool, cpu_count\n",
        "\n",
        "def json2text(filename):\n",
        "    \"\"\"\n",
        "    Converts the JSON content of a file into a plain text format.\n",
        "\n",
        "    Args:\n",
        "    filename (str): Path to the JSON file.\n",
        "\n",
        "    Returns:\n",
        "    str: Extracted text content from the JSON file.\n",
        "    \"\"\"\n",
        "    try:\n",
        "        with open(filename, 'r', encoding='utf-8') as file:\n",
        "            paper_content = json.load(file)\n",
        "\n",
        "        abstract = \"\"  # Initialize the abstract variable\n",
        "\n",
        "        # Get the abstract\n",
        "        if 'abstract' in paper_content:\n",
        "            for abs in paper_content['abstract']:\n",
        "                abstract += abs.get('text', '') + '\\n'\n",
        "\n",
        "            return abstract.strip()  # Return the collected abstract\n",
        "\n",
        "        else:\n",
        "            print(f\"No abstract found in {filename}\")\n",
        "            return \"\"\n",
        "\n",
        "    except Exception as e:\n",
        "        print(f\"Error processing {filename}: {e}\")\n",
        "        return \"\"\n",
        "\n",
        "def process_and_collect(filename):\n",
        "    \"\"\"\n",
        "    Process a single JSON file and return the extracted text.\n",
        "\n",
        "    Args:\n",
        "    filename (str): Path to the JSON file.\n",
        "\n",
        "    Returns:\n",
        "    str: Extracted text content.\n",
        "    \"\"\"\n",
        "    return json2text(filename)\n",
        "\n",
        "def par_process_json_files(json_folder, output_file):\n",
        "    \"\"\"\n",
        "    Process all JSON files in a directory using multiprocessing and write their contents to a text file.\n",
        "\n",
        "    Args:\n",
        "    json_folder (str): Path to the folder containing JSON files.\n",
        "    output_file (str): Path to the output text file.\n",
        "    \"\"\"\n",
        "    json_files = [os.path.join(json_folder, f) for f in os.listdir(json_folder) if f.endswith('.json')]\n",
        "\n",
        "    if not json_files:\n",
        "        print(f\"No JSON files found in {json_folder}\")\n",
        "        return\n",
        "\n",
        "    cpu_count_ = cpu_count()\n",
        "    with Pool(cpu_count_) as pool:\n",
        "        processed_contents = pool.map(process_and_collect, json_files)\n",
        "\n",
        "    with open(output_file, 'w', encoding='utf-8') as outfile:\n",
        "        for content in processed_contents:\n",
        "            if content:  # Only write non-empty content\n",
        "                outfile.write(content + '\\n')\n",
        "\n",
        "# Define paths (replace with your own paths if needed)\n",
        "json_folder = r\"/content/extracted_corpus/pdf_json\"\n",
        "output_file = r'/content/drive/MyDrive/abstracts.txt'\n",
        "\n",
        "# Run the processing function\n",
        "par_process_json_files(json_folder, output_file)\n",
        "print(f\"Processing complete. Output written to {output_file}\")\n"
      ],
      "metadata": {
        "colab": {
          "base_uri": "https://localhost:8080/"
        },
        "id": "vMeiOC1UQRAe",
        "outputId": "018d6646-68c1-4878-8954-a95e191c3b9b"
      },
      "execution_count": null,
      "outputs": [
        {
          "output_type": "stream",
          "name": "stdout",
          "text": [
            "Processing complete. Output written to /content/drive/MyDrive/abstracts.txt\n"
          ]
        }
      ]
    },
    {
      "cell_type": "code",
      "source": [
        "import re\n",
        "from collections import Counter\n",
        "from nltk.corpus import stopwords\n",
        "import nltk\n",
        "\n",
        "# Download the stopwords if not already downloaded\n",
        "nltk.download('stopwords')\n",
        "\n",
        "# Get the list of English stopwords from nltk\n",
        "STOP_WORDS = set(stopwords.words('english'))\n",
        "\n",
        "def clean_text(text):\n",
        "    \"\"\"\n",
        "    Cleans the text by removing special characters, digits, extra spaces,\n",
        "    stop words, and words with length < 2.\n",
        "\n",
        "    Args:\n",
        "    text (str): Input text.\n",
        "\n",
        "    Returns:\n",
        "    str: Cleaned text.\n",
        "    \"\"\"\n",
        "    text = text.lower()  # Convert to lowercase\n",
        "    text = re.sub(r'\\d+', '', text)  # Remove digits\n",
        "    text = re.sub(r'[^\\w\\s]', '', text)  # Remove punctuation\n",
        "    text = re.sub(r'\\s+', ' ', text).strip()  # Remove extra spaces\n",
        "\n",
        "    # Filter out stop words and words with length < 2\n",
        "    words = [word for word in text.split() if word not in STOP_WORDS and len(word) > 2]\n",
        "\n",
        "    return ' '.join(words)\n",
        "\n",
        "def build_vocabulary(input_file, vocab_size=10000):\n",
        "    \"\"\"\n",
        "    Builds a vocabulary of the top `vocab_size` most frequent words from a text file,\n",
        "    with corresponding indexes.\n",
        "\n",
        "    Args:\n",
        "    input_file (str): Path to the input text file.\n",
        "    vocab_size (int): Size of the desired vocabulary.\n",
        "\n",
        "    Returns:\n",
        "    dict: Dictionary with words as keys and their indexes as values.\n",
        "    \"\"\"\n",
        "    with open(input_file, 'r', encoding='utf-8') as file:\n",
        "        text = file.read()\n",
        "\n",
        "    # Clean the text\n",
        "    cleaned_text = clean_text(text)\n",
        "\n",
        "    # Tokenize the text into words\n",
        "    words = cleaned_text.split()\n",
        "\n",
        "    # Count word frequencies\n",
        "    word_counts = Counter(words)\n",
        "\n",
        "    # Get the top `vocab_size` most common words\n",
        "    most_common_words = [word for word, _ in word_counts.most_common(vocab_size)]\n",
        "\n",
        "    # Create a word-to-index mapping (dictionary)\n",
        "    word_to_index = {word: idx for idx, word in enumerate(most_common_words)}\n",
        "\n",
        "    return word_to_index\n",
        "\n",
        "def save_vocabulary(vocab, output_file):\n",
        "    \"\"\"\n",
        "    Saves the vocabulary to a text file, with each line containing the word and its index.\n",
        "\n",
        "    Args:\n",
        "    vocab (dict): Dictionary of words and their corresponding indexes.\n",
        "    output_file (str): Path to the output text file.\n",
        "    \"\"\"\n",
        "    with open(output_file, 'w', encoding='utf-8') as file:\n",
        "        for word, index in vocab.items():\n",
        "            file.write(f\"{word}\\t{index}\\n\")  # Save word and index separated by a tab\n",
        "\n",
        "# Define paths\n",
        "input_file = r'/content/drive/MyDrive/abstracts.txt'  # Input file path\n",
        "vocab_output_file = r'/content/drive/MyDrive/vocabulary.txt'  # Output vocab file path\n",
        "\n",
        "# Build and save the vocabulary\n",
        "vocabulary = build_vocabulary(input_file, vocab_size=10000)\n",
        "save_vocabulary(vocabulary, vocab_output_file)\n",
        "\n",
        "print(f\"Vocabulary of 10,000 words with indexes saved to {vocab_output_file}\")\n"
      ],
      "metadata": {
        "colab": {
          "base_uri": "https://localhost:8080/"
        },
        "id": "MVWOTMbvtr3H",
        "outputId": "69758e5b-3cf9-44a5-ee0d-a403941c2bdf"
      },
      "execution_count": null,
      "outputs": [
        {
          "output_type": "stream",
          "name": "stderr",
          "text": [
            "[nltk_data] Downloading package stopwords to /root/nltk_data...\n",
            "[nltk_data]   Unzipping corpora/stopwords.zip.\n"
          ]
        },
        {
          "output_type": "stream",
          "name": "stdout",
          "text": [
            "Vocabulary of 10,000 words with indexes saved to /content/drive/MyDrive/vocabulary.txt\n"
          ]
        }
      ]
    },
    {
      "cell_type": "code",
      "source": [
        "import numpy as np\n",
        "import matplotlib.pyplot as plt\n",
        "\n",
        "def build_vocabulary_index(vocab_file):\n",
        "    \"\"\"\n",
        "    Creates a word-to-index mapping from a vocabulary file.\n",
        "    \"\"\"\n",
        "    with open(vocab_file, 'r', encoding='utf-8') as file:\n",
        "        word_to_index = {\n",
        "            line.split('\\t')[0]: int(line.split('\\t')[1])  # Extract word and index\n",
        "            for line in file.readlines()\n",
        "        }\n",
        "    return word_to_index\n",
        "\n",
        "def one_hot_vector_from_index(index, vocab_size):\n",
        "    \"\"\"\n",
        "    Generates a one-hot vector using the provided index.\n",
        "    \"\"\"\n",
        "    vector = np.zeros(vocab_size)\n",
        "    vector[index] = 1\n",
        "    return vector\n",
        "\n",
        "def sgd_step(x, y, weights, learning_rate):\n",
        "    \"\"\"\n",
        "    Performs a single step of Stochastic Gradient Descent (SGD).\n",
        "    \"\"\"\n",
        "    y_hat = np.dot(weights, x)  # Prediction: y_hat = w.T * x\n",
        "    error = y_hat - y  # Error: error = y_hat - y\n",
        "    grad = error * x  # Gradient: grad = error * x\n",
        "    weights -= learning_rate * grad  # Update weights\n",
        "    return weights\n",
        "\n",
        "def train_sgd(vocab_file, learning_rate=0.01, epochs=100):\n",
        "    \"\"\"\n",
        "    Trains a model using SGD and stores the average loss for each epoch.\n",
        "    \"\"\"\n",
        "    # Build vocabulary index and determine its size\n",
        "    word_to_index = build_vocabulary_index(vocab_file)\n",
        "    vocab_size = len(word_to_index)\n",
        "\n",
        "    # Initialize random weights\n",
        "    weights = np.random.randn(vocab_size)\n",
        "\n",
        "    # Dummy target value for each word (1.0 for simplicity)\n",
        "    target = 1.0\n",
        "\n",
        "    # Store average loss for each epoch\n",
        "    epoch_losses = []\n",
        "\n",
        "    for epoch in range(epochs):\n",
        "        total_loss = 0\n",
        "\n",
        "        # Perform SGD for each word in the vocabulary\n",
        "        for word, index in word_to_index.items():\n",
        "            x = one_hot_vector_from_index(index, vocab_size)  # One-hot vector\n",
        "            weights = sgd_step(x, target, weights, learning_rate)  # SGD step\n",
        "\n",
        "            # Calculate MSE loss for monitoring\n",
        "            y_hat = np.dot(weights, x)\n",
        "            loss = (y_hat - target) ** 2\n",
        "            total_loss += loss\n",
        "\n",
        "        # Calculate and store average loss for the epoch\n",
        "        avg_loss = total_loss / vocab_size\n",
        "        epoch_losses.append(avg_loss)\n",
        "        # print(f\"Epoch {epoch + 1}/{epochs}, Loss: {avg_loss:.4f}\")\n",
        "\n",
        "    # Plot the training loss over epochs\n",
        "    plt.figure(figsize=(10, 6))\n",
        "    plt.plot(range(1, epochs + 1), epoch_losses, marker='o')\n",
        "    plt.title(\"Epochs vs. Training Loss\")\n",
        "    plt.xlabel(\"Epoch\")\n",
        "    plt.ylabel(\"Average Loss\")\n",
        "    plt.grid(True)\n",
        "    plt.show()\n",
        "\n",
        "# Example usage:\n",
        "vocab_file = r'/content/drive/MyDrive/vocabulary.txt'  # Path to the vocabulary file\n",
        "\n",
        "# Train the model and plot the loss\n",
        "train_sgd(vocab_file, learning_rate=0.01, epochs=300)\n"
      ],
      "metadata": {
        "colab": {
          "base_uri": "https://localhost:8080/",
          "height": 564
        },
        "id": "cuT1RvqUwYKt",
        "outputId": "e4bf046e-bf1e-4a56-f96c-ec02a52eca59"
      },
      "execution_count": null,
      "outputs": [
        {
          "output_type": "display_data",
          "data": {
            "text/plain": [
              "<Figure size 1000x600 with 1 Axes>"
            ],
            "image/png": "[encoded data removed]"
          },
          "metadata": {}
        }
      ]
    },
    {
      "cell_type": "code",
      "source": [
        "import numpy as np\n",
        "import random\n",
        "import matplotlib.pyplot as plt\n",
        "\n",
        "def one_hot_vector_from_index(index, vocab_size):\n",
        "    \"\"\"Generates a one-hot vector using the provided index.\"\"\"\n",
        "    vector = np.zeros(vocab_size)\n",
        "    vector[index] = 1\n",
        "    return vector\n",
        "\n",
        "def negative_sampling(target_word_index, word_to_index, num_neg_samples=5):\n",
        "    \"\"\"Sample negative words for the given target word index.\"\"\"\n",
        "    all_indices = list(word_to_index.values())\n",
        "    all_indices.remove(target_word_index)  # Exclude the target word\n",
        "    negative_samples = random.sample(all_indices, num_neg_samples)\n",
        "    return negative_samples\n",
        "\n",
        "def sgd_step(W_in, W_out, input_index, positive_index, negative_indices, learning_rate):\n",
        "    \"\"\"Performs a single SGD step updating W_in and W_out.\"\"\"\n",
        "    # Retrieve input and target word embeddings\n",
        "    h = W_in[input_index]   # Hidden layer (embedding for input word)\n",
        "    u_pos = W_out[positive_index]  # Positive sample\n",
        "\n",
        "    # Positive sample update\n",
        "    y_hat_pos = np.dot(u_pos, h)  # Prediction for positive sample\n",
        "    error_pos = y_hat_pos - 1     # Target is 1 for positive sample\n",
        "\n",
        "    W_out[positive_index] -= learning_rate * error_pos * h  # Update W_out\n",
        "    W_in[input_index] -= learning_rate * error_pos * u_pos  # Update W_in\n",
        "\n",
        "    # Negative samples update\n",
        "    for neg_index in negative_indices:\n",
        "        u_neg = W_out[neg_index]  # Negative sample embedding\n",
        "        y_hat_neg = np.dot(u_neg, h)  # Prediction for negative sample\n",
        "        error_neg = y_hat_neg  # Target is 0 for negative samples\n",
        "\n",
        "        W_out[neg_index] -= learning_rate * error_neg * h  # Update W_out\n",
        "        W_in[input_index] -= learning_rate * error_neg * u_neg  # Update W_in\n",
        "\n",
        "def train_skipgram(vocab_file, embedding_dim=50, learning_rate=0.01, epochs=10, num_neg_samples=5):\n",
        "    \"\"\"Trains the Skip-gram model with W_in and W_out.\"\"\"\n",
        "    word_to_index = build_vocabulary_index(vocab_file)\n",
        "    vocab_size = len(word_to_index)\n",
        "\n",
        "    # Initialize W_in and W_out with small random values\n",
        "    W_in = np.random.randn(vocab_size, embedding_dim) * 0.01\n",
        "    W_out = np.random.randn(vocab_size, embedding_dim) * 0.01\n",
        "\n",
        "    epoch_losses = []\n",
        "\n",
        "    for epoch in range(epochs):\n",
        "        total_loss = 0\n",
        "\n",
        "        for word, input_index in word_to_index.items():\n",
        "            # Sample positive and negative words\n",
        "            positive_index = input_index\n",
        "            negative_indices = negative_sampling(input_index, word_to_index, num_neg_samples)\n",
        "\n",
        "            # Perform SGD step\n",
        "            sgd_step(W_in, W_out, input_index, positive_index, negative_indices, learning_rate)\n",
        "\n",
        "            # Calculate loss for monitoring\n",
        "            y_hat = np.dot(W_out[positive_index], W_in[input_index])\n",
        "            loss = (y_hat - 1) ** 2  # Loss for positive sample\n",
        "            total_loss += loss\n",
        "\n",
        "        avg_loss = total_loss / vocab_size\n",
        "        epoch_losses.append(avg_loss)\n",
        "\n",
        "    # Plot the loss over epochs\n",
        "    plt.plot(range(1, epochs + 1), epoch_losses, marker='o')\n",
        "    plt.xlabel('Epochs')\n",
        "    plt.ylabel('Average Loss')\n",
        "    plt.title('Training Loss over Epochs using Negative Sampling')\n",
        "    plt.grid(True)\n",
        "    plt.show()\n",
        "\n",
        "    return W_in, W_out, word_to_index\n",
        "\n",
        "def build_vocabulary_index(vocab_file):\n",
        "    \"\"\"Creates a word-to-index mapping from the vocabulary file.\"\"\"\n",
        "    with open(vocab_file, 'r', encoding='utf-8') as file:\n",
        "        word_to_index = {\n",
        "            line.split('\\t')[0]: int(line.split('\\t')[1])\n",
        "            for line in file.readlines()\n",
        "        }\n",
        "    return word_to_index\n",
        "\n",
        "def cosine_similarity(vec1, vec2):\n",
        "    \"\"\"Calculates cosine similarity between two vectors.\"\"\"\n",
        "    return np.dot(vec1, vec2) / (np.linalg.norm(vec1) * np.linalg.norm(vec2))\n",
        "\n",
        "def word_analogy(word_a, word_b, word_c, W_in, word_to_index):\n",
        "    \"\"\"\n",
        "    Solves the analogy: word_a : word_b :: word_c : ?\n",
        "    Uses cosine similarity to find the best matching word.\n",
        "    \"\"\"\n",
        "    if any(w not in word_to_index for w in [word_a, word_b, word_c]):\n",
        "        raise ValueError(\"One or more words not in vocabulary.\")\n",
        "\n",
        "    # Get embeddings for the words\n",
        "    vec_a = W_in[word_to_index[word_a]]\n",
        "    vec_b = W_in[word_to_index[word_b]]\n",
        "    vec_c = W_in[word_to_index[word_c]]\n",
        "\n",
        "    # Calculate the target vector: vec_b - vec_a + vec_c\n",
        "    target_vec = vec_b - vec_a + vec_c\n",
        "\n",
        "    # Find the most similar word to the target vector\n",
        "    best_word = None\n",
        "    best_similarity = -1\n",
        "\n",
        "    for word, index in word_to_index.items():\n",
        "        if word in [word_a, word_b, word_c]:  # Skip input words\n",
        "            continue\n",
        "        similarity = cosine_similarity(W_in[index], target_vec)\n",
        "        if similarity > best_similarity:\n",
        "            best_similarity = similarity\n",
        "            best_word = word\n",
        "\n",
        "    return best_word\n",
        "\n",
        "# Example usage\n",
        "vocab_file = '/content/drive/MyDrive/vocabulary.txt'  # Path to vocabulary file\n",
        "\n",
        "# Train the Skip-gram model and get W_in and W_out matrices\n",
        "W_in, W_out, word_to_index = train_skipgram(vocab_file, embedding_dim=50, learning_rate=0.07, epochs=100)\n",
        "\n"
      ],
      "metadata": {
        "colab": {
          "base_uri": "https://localhost:8080/",
          "height": 472
        },
        "id": "xz3F1QllukPc",
        "outputId": "90f8c17a-0b99-46d1-d067-1260ce54de53"
      },
      "execution_count": null,
      "outputs": [
        {
          "output_type": "display_data",
          "data": {
            "text/plain": [
              "<Figure size 640x480 with 1 Axes>"
            ],
            "image/png": "[encoded data removed]"
          },
          "metadata": {}
        }
      ]
    },
    {
      "cell_type": "markdown",
      "source": [
        "## Architecture Overview: Word2Vec with Skip-Gram Model and Negative Sampling\n",
        "The Skip-Gram Word2Vec model used in this project is designed to learn word embeddings by predicting context words given a target word. The architecture focuses on two primary matrices:\n",
        "\n",
        "**W_in**: Connects the input layer to the hidden layer (used as the word embeddings).\n",
        "\n",
        "**W_out**: Connects the hidden layer to the output layer (used for predictions but often ignored during inference).\n",
        "\n",
        "The negative sampling strategy simplifies the computational requirements by updating only a small set of negative samples during each step, rather than the full vocabulary.\n",
        "\n",
        "###Architecture Flow\n",
        "**Input Layer:**\n",
        "One-hot encoded vector representing a target word.\n",
        "\n",
        "**Dimensionality:**\n",
        "vocab_size × 1\n",
        "vocab_size × 1.\n",
        "\n",
        "**Hidden Layer:**\n",
        "A dense layer with size embedding_dim (e.g., 50). This layer serves as the word embedding layer.\n",
        "\n",
        "**Matrix:** W_in with shape\n",
        "vocab_size\n",
        "×\n",
        "embedding_dim\n",
        "vocab_size×embedding_dim.\n",
        "Each row in W_in represents the embedding of a word.\n",
        "\n",
        "**Output Layer:**\n",
        "A second dense layer that produces a score for each possible context word.\n",
        "Matrix: W_out with shape\n",
        "vocab_size\n",
        "×\n",
        "embedding_dim\n",
        "vocab_size×embedding_dim.\n",
        "During negative sampling, only selected rows of W_out are used.\n",
        "Key Design Decisions\n",
        "Skip-Gram Model:\n",
        "We chose a Skip-Gram architecture because it captures fine-grained word relationships, useful for tasks like word similarity and analogy detection.\n",
        "\n",
        "**Embedding Size:**\n",
        "The embedding dimension (e.g., 50) is small enough for efficient learning yet sufficient to capture semantic meaning.\n",
        "\n",
        "**Negative Sampling:**\n",
        "Instead of a full softmax over all possible context words, we sample a few negative examples, making training faster and more scalable.\n",
        "\n",
        "**Learning Rate Decay:**\n",
        "A decreasing learning rate ensures convergence while avoiding overshooting during later epochs."
      ],
      "metadata": {
        "id": "-e0Q8Pvna7Ic"
      }
    },
    {
      "cell_type": "code",
      "source": [
        "# Find word analogy: 'king' is to 'man' as 'queen' is to ?\n",
        "analogy_result = word_analogy('vaccine', 'immunity', 'disease', W_in, word_to_index)\n",
        "print(f\"'vaccine' is to 'immunity' as 'disease' is to '{analogy_result}'\")"
      ],
      "metadata": {
        "colab": {
          "base_uri": "https://localhost:8080/"
        },
        "id": "eU8SHLmnXDKI",
        "outputId": "a457520a-fd1e-40fc-83d7-42c623c6652e"
      },
      "execution_count": null,
      "outputs": [
        {
          "output_type": "stream",
          "name": "stdout",
          "text": [
            "'vaccine' is to 'immunity' as 'disease' is to 'immobilized'\n"
          ]
        }
      ]
    },
    {
      "cell_type": "code",
      "source": [
        "def find_similar_words(word, W_in, word_to_index, top_n=5):\n",
        "    \"\"\"\n",
        "    Finds the top_n words similar to the given word based on the average of W_in and W_out.\n",
        "    Cosine similarity is used as the metric.\n",
        "    \"\"\"\n",
        "    if word not in word_to_index:\n",
        "        raise ValueError(f\"'{word}' is not in the vocabulary.\")\n",
        "\n",
        "    # Get the embedding of the word (averaging W_in and W_out)\n",
        "    input_index = word_to_index[word]\n",
        "    word_vector = W_in[input_index]\n",
        "\n",
        "    similarities = []\n",
        "\n",
        "    # Calculate cosine similarity between the input word and all other words\n",
        "    for other_word, other_index in word_to_index.items():\n",
        "        if other_word != word:  # Skip the input word itself\n",
        "            other_vector = W_in[other_index]\n",
        "            similarity = cosine_similarity(word_vector, other_vector)\n",
        "            similarities.append((other_word, similarity))\n",
        "\n",
        "    # Sort by similarity and return the top_n most similar words\n",
        "    similarities.sort(key=lambda x: x[1], reverse=True)\n",
        "    return similarities[:top_n]\n",
        "\n",
        "# Example usage: Finding similar words for 'vaccine'\n",
        "similar_words = find_similar_words('disease', W_in, word_to_index, top_n=5)\n",
        "print(f\"Words similar to 'disease' using W_in: {similar_words}\")\n"
      ],
      "metadata": {
        "colab": {
          "base_uri": "https://localhost:8080/"
        },
        "id": "SgUaaMQdwbeC",
        "outputId": "f9051ca3-e4b7-45a1-ed6e-53b696ed0e48"
      },
      "execution_count": null,
      "outputs": [
        {
          "output_type": "stream",
          "name": "stdout",
          "text": [
            "Words similar to 'disease' using W_in: [('rapidly', 0.5120617176591599), ('switch', 0.4850820467416592), ('delineate', 0.46380812942129007), ('behavioral', 0.4586317586754055), ('hydroxychloroquine', 0.4479161616312259)]\n"
          ]
        }
      ]
    },
    {
      "cell_type": "code",
      "source": [
        "def find_similar_words2(word, W_out, word_to_index, top_n=5):\n",
        "    \"\"\"\n",
        "    Finds the top_n words similar to the given word based on the average of W_in and W_out.\n",
        "    Cosine similarity is used as the metric.\n",
        "    \"\"\"\n",
        "    if word not in word_to_index:\n",
        "        raise ValueError(f\"'{word}' is not in the vocabulary.\")\n",
        "\n",
        "    # Get the embedding of the word (averaging W_in and W_out)\n",
        "    input_index = word_to_index[word]\n",
        "    word_vector = W_out[input_index]\n",
        "\n",
        "    similarities = []\n",
        "\n",
        "    # Calculate cosine similarity between the input word and all other words\n",
        "    for other_word, other_index in word_to_index.items():\n",
        "        if other_word != word:  # Skip the input word itself\n",
        "            other_vector = W_out[other_index]\n",
        "            similarity = cosine_similarity(word_vector, other_vector)\n",
        "            similarities.append((other_word, similarity))\n",
        "\n",
        "    # Sort by similarity and return the top_n most similar words\n",
        "    similarities.sort(key=lambda x: x[1], reverse=True)\n",
        "    return similarities[:top_n]\n",
        "\n",
        "# Example usage: Finding similar words for 'vaccine'\n",
        "similar_words = find_similar_words2('disease', W_out, word_to_index, top_n=5)\n",
        "print(f\"Words similar to 'disease' using W_out: {similar_words}\")\n"
      ],
      "metadata": {
        "colab": {
          "base_uri": "https://localhost:8080/"
        },
        "id": "WqkGnf0S0M5e",
        "outputId": "91a9cbe9-bab4-4c98-e9d9-813a8387f636"
      },
      "execution_count": null,
      "outputs": [
        {
          "output_type": "stream",
          "name": "stdout",
          "text": [
            "Words similar to 'disease' using W_out: [('rapidly', 0.5224999603156085), ('switch', 0.46219031377535363), ('travelling', 0.45647931223102706), ('hydroxychloroquine', 0.45263198785288866), ('realistic', 0.44144198265219553)]\n"
          ]
        }
      ]
    },
    {
      "cell_type": "code",
      "source": [
        "def find_similar_words3(word, W_in, W_out, word_to_index, top_n=5):\n",
        "    \"\"\"\n",
        "    Finds the top_n words similar to the given word based on the average of W_in and W_out.\n",
        "    Cosine similarity is used as the metric.\n",
        "    \"\"\"\n",
        "    if word not in word_to_index:\n",
        "        raise ValueError(f\"'{word}' is not in the vocabulary.\")\n",
        "\n",
        "    # Get the embedding of the word (averaging W_in and W_out)\n",
        "    input_index = word_to_index[word]\n",
        "    word_vector = (W_out[input_index]+W_in[input_index])/2\n",
        "\n",
        "    similarities = []\n",
        "\n",
        "    # Calculate cosine similarity between the input word and all other words\n",
        "    for other_word, other_index in word_to_index.items():\n",
        "        if other_word != word:  # Skip the input word itself\n",
        "            other_vector = (W_out[other_index]+W_in[other_index])/2\n",
        "            similarity = cosine_similarity(word_vector, other_vector)\n",
        "            similarities.append((other_word, similarity))\n",
        "\n",
        "    # Sort by similarity and return the top_n most similar words\n",
        "    similarities.sort(key=lambda x: x[1], reverse=True)\n",
        "    return similarities[:top_n]\n",
        "\n",
        "# Example usage: Finding similar words for 'vaccine'\n",
        "similar_words = find_similar_words3('disease', W_in, W_out, word_to_index, top_n=5)\n",
        "print(f\"Words similar to 'disease' using both W_in and W_out: {similar_words}\")\n"
      ],
      "metadata": {
        "colab": {
          "base_uri": "https://localhost:8080/"
        },
        "id": "jBXLIBhH04Te",
        "outputId": "cb455860-825b-4964-9230-b8a6ddb83ac3"
      },
      "execution_count": null,
      "outputs": [
        {
          "output_type": "stream",
          "name": "stdout",
          "text": [
            "Words similar to 'disease' using both W_in and W_out: [('rapidly', 0.5206129228506454), ('switch', 0.47746685816136714), ('hydroxychloroquine', 0.45356088626295266), ('delineate', 0.4514840199374046), ('behavioral', 0.44880851248676246)]\n"
          ]
        }
      ]
    },
    {
      "cell_type": "markdown",
      "source": [
        "## Brief Description of the Outcome\n",
        "\n",
        "**Consistency Across Approaches:**\n",
        "\n",
        "Similar to the results for \"vaccine,\" there is a notable consistency in the top similar words across all three approaches. \"Rapidly\" ranks the highest in all three methods, showing a strong association with \"disease.\" Additionally, \"switch\" and \"hydroxychloroquine\" appear in all lists, demonstrating these words' consistent connection with \"disease.\"\n",
        "\n",
        "**Variations in Similarities:**\n",
        "\n",
        "The similarities reveal different contextual relationships. For example:\n",
        "In the W_out approach, \"travelling\" and \"realistic\" are among the top similar words, but they do not appear in the W_in results. This suggests that W_out captures a broader context where disease might relate to concepts like movement and practicality.\n",
        "In contrast, the W_in results contain more specialized terms like \"delineate\" and \"behavioral,\" indicating a different aspect of the semantic relationship, potentially focused on medical or behavioral contexts.\n",
        "Impact of Averaging: The averaged results again provide a middle ground, with words like \"delineate\" and \"behavioral\" from W_in being retained, while \"travelling\" from W_out is dropped. This shows that averaging helps to balance and smooth out the differences between the two embeddings, maintaining both technical and contextual associations.\n",
        "\n",
        "**Diverse Word Choices:**\n",
        "\n",
        "The appearance of technical terms like \"hydroxychloroquine\" across all approaches highlights how both input and output embeddings can capture medically relevant concepts.\n",
        "Words like \"rapidly\" and \"switch\" suggest that the model associates \"disease\" with dynamic or changing processes, while \"behavioral\" and \"delineate\" suggest an emphasis on how diseases are described or understood in different contexts."
      ],
      "metadata": {
        "id": "-AG0CRcT5W2d"
      }
    },
    {
      "cell_type": "markdown",
      "source": [
        "## **Task 5**\n",
        "\n",
        "There are no errors in the slides that I could find."
      ],
      "metadata": {
        "id": "110feyGShOh_"
      }
    }
  ]
}