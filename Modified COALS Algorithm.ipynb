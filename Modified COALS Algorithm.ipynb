{
  "nbformat": 4,
  "nbformat_minor": 0,
  "metadata": {
    "colab": {
      "provenance": [],
      "gpuType": "V28",
      "mount_file_id": "1OMSoCvB3mSrd3-J5XC-BQUA6lB0i1i7d",
      "authorship_tag": "ABX9TyNYKzgcX9a5BJjjhzCNWb06",
      "include_colab_link": true
    },
    "kernelspec": {
      "name": "python3",
      "display_name": "Python 3"
    },
    "language_info": {
      "name": "python"
    },
    "accelerator": "TPU"
  },
  "cells": [
    {
      "cell_type": "markdown",
      "metadata": {
        "id": "view-in-github",
        "colab_type": "text"
      },
      "source": [
        "<a href=\"https://colab.research.google.com/github/sahillakhmani/Natural-Language-Processing/blob/main/Modified%20COALS%20Algorithm.ipynb\" target=\"_parent\"><img src=\"https://colab.research.google.com/assets/colab-badge.svg\" alt=\"Open In Colab\"/></a>"
      ]
    },
    {
      "cell_type": "code",
      "source": [
        "from google.colab import drive\n",
        "drive.mount('/content/drive')"
      ],
      "metadata": {
        "colab": {
          "base_uri": "https://localhost:8080/"
        },
        "id": "UA1qN6pQUuph",
        "outputId": "770c110b-ce25-4e79-fc0e-f1a8389269d0"
      },
      "execution_count": null,
      "outputs": [
        {
          "output_type": "stream",
          "name": "stdout",
          "text": [
            "Drive already mounted at /content/drive; to attempt to forcibly remount, call drive.mount(\"/content/drive\", force_remount=True).\n"
          ]
        }
      ]
    },
    {
      "cell_type": "markdown",
      "source": [
        "# **Task (a) and (b)**"
      ],
      "metadata": {
        "id": "nyaOwDGpVeTr"
      }
    },
    {
      "cell_type": "code",
      "source": [
        "import numpy as np\n",
        "from collections import Counter\n",
        "from multiprocessing import Pool, cpu_count\n",
        "import h5py\n",
        "\n",
        "# Parameters\n",
        "VOCAB_SIZE = 7000\n",
        "WINDOW_SIZE = 5\n",
        "HDF5_FILE = \"/content/drive/MyDrive/coals_data.h5\"\n",
        "CORPUS_PATH = '/content/drive/MyDrive/final_output.txt'\n",
        "\n",
        "# Function to load the preprocessed corpus\n",
        "def load_corpus(filepath):\n",
        "    with open(filepath, 'r') as f:\n",
        "        corpus = f.read().split()\n",
        "    return corpus\n",
        "\n",
        "# Step 1: Limit vocabulary size to the most frequent words\n",
        "def build_vocabulary(corpus, vocab_size):\n",
        "    word_counts = Counter(corpus)\n",
        "    most_common = word_counts.most_common(vocab_size)\n",
        "    vocab = {word: idx for idx, (word, _) in enumerate(most_common)}\n",
        "    return vocab\n",
        "\n",
        "# Step 2: Build the co-occurrence matrix for a chunk of the corpus\n",
        "def cooccurrence_matrix_for_chunk(chunk, vocab, window_size):\n",
        "    vocab_size = len(vocab)\n",
        "    co_matrix = np.zeros((vocab_size, vocab_size), dtype=np.float64)\n",
        "\n",
        "    chunk_length = len(chunk)\n",
        "    for i, word in enumerate(chunk):\n",
        "        if word in vocab:\n",
        "            word_idx = vocab[word]\n",
        "            start = max(0, i - window_size)\n",
        "            end = min(chunk_length, i + window_size + 1)\n",
        "            for j in range(start, end):\n",
        "                if i != j and chunk[j] in vocab:\n",
        "                    context_idx = vocab[chunk[j]]\n",
        "                    co_matrix[word_idx, context_idx] += 1\n",
        "\n",
        "    return co_matrix\n",
        "\n",
        "# Helper function to process each chunk with multiprocessing\n",
        "def process_chunk(chunk_data):\n",
        "    chunk, vocab, window_size = chunk_data\n",
        "    return cooccurrence_matrix_for_chunk(chunk, vocab, window_size)\n",
        "\n",
        "# Multiprocessing step to handle large corpus\n",
        "def compute_cooccurrence_parallel(corpus, vocab, window_size, num_workers=None):\n",
        "    if num_workers is None:\n",
        "        num_workers = cpu_count()\n",
        "\n",
        "    # Split corpus into chunks for parallel processing\n",
        "    chunk_size = len(corpus) // num_workers\n",
        "    chunks = [corpus[i:i + chunk_size] for i in range(0, len(corpus), chunk_size)]\n",
        "\n",
        "    # Preparing data to be sent to each worker\n",
        "    chunk_data = [(chunk, vocab, window_size) for chunk in chunks]\n",
        "\n",
        "    with Pool(num_workers) as pool:\n",
        "        print(\"Starting co-occurrence matrix computation...\")\n",
        "        results = pool.map(process_chunk, chunk_data)\n",
        "\n",
        "    final_matrix = np.sum(results, axis=0)\n",
        "    print(\"Co-occurrence matrix computation completed.\")\n",
        "    return final_matrix\n",
        "\n",
        "# Step 3: Calculate probabilities P_ij\n",
        "def calculate_probabilities(co_matrix):\n",
        "    row_sums = np.sum(co_matrix, axis=1, keepdims=True)\n",
        "    prob_matrix = np.divide(co_matrix, row_sums, where=row_sums != 0)  # Avoid division by zero\n",
        "    return prob_matrix\n",
        "\n",
        "# Step 4: Compute probability ratios P_ik / P_jk for a specific word k\n",
        "def compute_probability_ratios(prob_matrix, word_k_idx):\n",
        "    print(f\"Computing probability ratios P_ik / P_jk for word index {word_k_idx}...\")\n",
        "\n",
        "    # Get the probability vector for the 3500th word (w_k)\n",
        "    prob_vector_k = prob_matrix[:, word_k_idx]\n",
        "\n",
        "    # Compute the ratio matrix P_ik / P_jk for all words i and j\n",
        "    ratio_matrix = np.divide(prob_vector_k[:, np.newaxis], prob_vector_k, where=(prob_vector_k != 0))\n",
        "\n",
        "    print(\"Probability ratios computation completed.\")\n",
        "    return ratio_matrix\n",
        "\n",
        "# Main function\n",
        "def main():\n",
        "    # Load the corpus\n",
        "    filepath = CORPUS_PATH\n",
        "    print(\"Loading corpus...\")\n",
        "    corpus = load_corpus(filepath)\n",
        "    print(f\"Corpus loaded. Size: {len(corpus)} words.\")\n",
        "\n",
        "    # Build the vocabulary of the top 7000 most frequent words\n",
        "    print(\"Building vocabulary...\")\n",
        "    vocab = build_vocabulary(corpus, VOCAB_SIZE)\n",
        "    print(f\"Vocabulary built. Size: {len(vocab)} words.\")\n",
        "\n",
        "    # Compute the co-occurrence matrix using multiprocessing\n",
        "    co_matrix = compute_cooccurrence_parallel(corpus, vocab, WINDOW_SIZE)\n",
        "\n",
        "    # Calculate the probabilities for all words\n",
        "    print(\"Calculating probabilities for all words...\")\n",
        "    prob_matrix = calculate_probabilities(co_matrix)\n",
        "\n",
        "    # Select word w_k as the 3500th word from the vocabulary\n",
        "    word_k_idx = VOCAB_SIZE // 2\n",
        "\n",
        "    # Compute the ratio of probabilities P_ik / P_jk for all i and j\n",
        "    ratio_matrix = compute_probability_ratios(prob_matrix, word_k_idx)\n",
        "\n",
        "    # Save the ratio matrix to HDF5\n",
        "    with h5py.File(HDF5_FILE, 'a') as f:\n",
        "        f.create_dataset(f\"ratio_matrix_for_word_{word_k_idx}\", data=ratio_matrix)\n",
        "\n",
        "    print(f\"Results saved in {HDF5_FILE}.\")\n",
        "    print(\"Program completed.\")\n",
        "\n",
        "if __name__ == \"__main__\":\n",
        "    main()"
      ],
      "metadata": {
        "colab": {
          "base_uri": "https://localhost:8080/"
        },
        "id": "o2AE3PRDV41h",
        "outputId": "9ec2c5e4-319b-4c82-fabd-16fe634c9a15"
      },
      "execution_count": null,
      "outputs": [
        {
          "output_type": "stream",
          "name": "stdout",
          "text": [
            "Loading corpus...\n",
            "Corpus loaded. Size: 61908120 words.\n",
            "Building vocabulary...\n",
            "Vocabulary built. Size: 7000 words.\n",
            "Starting co-occurrence matrix computation...\n",
            "Co-occurrence matrix computation completed.\n",
            "Calculating probabilities for all words...\n",
            "Computing probability ratios P_ik / P_jk for word index 3500...\n",
            "Probability ratios computation completed.\n",
            "Results saved in /content/drive/MyDrive/coals_data.h5.\n",
            "Program completed.\n"
          ]
        }
      ]
    },
    {
      "cell_type": "markdown",
      "source": [
        "# **Task (c)**"
      ],
      "metadata": {
        "id": "WTUWSntxlq4o"
      }
    },
    {
      "cell_type": "code",
      "source": [
        "import h5py\n",
        "\n",
        "# Path to the HDF5 file\n",
        "HDF5_FILE = \"/content/drive/MyDrive/coals_data.h5\"\n",
        "\n",
        "def display_hdf5_info(hdf5_file):\n",
        "    # Open the HDF5 file in read mode\n",
        "    with h5py.File(hdf5_file, 'r') as f:\n",
        "\n",
        "        # Display available ratio matrix (for a specific word)\n",
        "        for key in f.keys():\n",
        "            if key.startswith(\"ratio_matrix_for_word_\"):\n",
        "                ratio_matrix = f[key]\n",
        "                print(f\"Co-occurence matrix size: {ratio_matrix.shape}\")\n",
        "                vocab_size = ratio_matrix.shape[0]  # Assuming square matrices (7000x7000)\n",
        "                print(f\"Vocabulary Size: {vocab_size}\")\n",
        "\n",
        "\n",
        "# Call the function to display the matrix information\n",
        "display_hdf5_info(HDF5_FILE)\n"
      ],
      "metadata": {
        "colab": {
          "base_uri": "https://localhost:8080/"
        },
        "id": "pIOpEs5_WZKp",
        "outputId": "718b3828-3881-429a-8948-cb412ceab974"
      },
      "execution_count": null,
      "outputs": [
        {
          "output_type": "stream",
          "name": "stdout",
          "text": [
            "Co-occurence matrix size: (7000, 7000)\n",
            "Vocabulary Size: 7000\n"
          ]
        }
      ]
    },
    {
      "cell_type": "markdown",
      "source": [
        "# **Task (d)**"
      ],
      "metadata": {
        "id": "R8RxFgYClwJV"
      }
    },
    {
      "cell_type": "code",
      "source": [
        "import h5py\n",
        "from collections import Counter\n",
        "import spacy\n",
        "\n",
        "# Load the spaCy English model\n",
        "nlp = spacy.load(\"en_core_web_sm\")\n",
        "\n",
        "# File path details\n",
        "CORPUS_PATH = '/content/drive/MyDrive/final_output.txt'\n",
        "VOCAB_FILE = 'vocab_with_frequencies.h5'\n",
        "\n",
        "# Function to load the corpus\n",
        "def load_corpus(filepath):\n",
        "    with open(filepath, 'r') as f:\n",
        "        return f.read()\n",
        "\n",
        "# Function to build the vocabulary with frequencies\n",
        "def build_vocabulary(corpus, vocab_size=7000):\n",
        "    word_counts = Counter(corpus.split())\n",
        "    most_common = word_counts.most_common(vocab_size)\n",
        "    vocab = {word: (idx, count) for idx, (word, count) in enumerate(most_common)}\n",
        "    return vocab\n",
        "\n",
        "# Function to save vocabulary with frequencies to HDF5 file\n",
        "def save_vocabulary_with_frequencies(vocab, hdf5_file):\n",
        "    with h5py.File(hdf5_file, 'w') as f:\n",
        "        vocab_group = f.create_group(\"vocabulary\")\n",
        "        for word, (idx, count) in vocab.items():\n",
        "            vocab_group.create_dataset(word, data=[idx, count])\n",
        "\n",
        "# Load the preprocessed corpus\n",
        "print(\"Loading preprocessed corpus from Drive...\")\n",
        "corpus = load_corpus(CORPUS_PATH)\n",
        "\n",
        "# Build the vocabulary from the corpus\n",
        "vocab = build_vocabulary(corpus)\n",
        "\n",
        "# Save the vocabulary with frequencies to an HDF5 file\n",
        "save_vocabulary_with_frequencies(vocab, VOCAB_FILE)\n",
        "\n",
        "OUTPUT_FILE = 'nouns_verbs.txt'\n",
        "\n",
        "# Function to load the corpus\n",
        "def load_corpus(filepath):\n",
        "    with open(filepath, 'r') as f:\n",
        "        return f.read()\n",
        "\n",
        "# Function to build the vocabulary with frequencies\n",
        "def build_vocabulary(corpus, vocab_size=7000):\n",
        "    word_counts = Counter(corpus.split())\n",
        "    most_common = word_counts.most_common(vocab_size)\n",
        "    vocab = {word: (idx, count) for idx, (word, count) in enumerate(most_common)}\n",
        "    return vocab\n",
        "\n",
        "# Function to identify nouns and verbs from the vocabulary using spaCy\n",
        "def identify_nouns_verbs(vocab):\n",
        "    nouns = []\n",
        "    verbs = []\n",
        "\n",
        "    for word in vocab:\n",
        "        doc = nlp(word)\n",
        "        for token in doc:\n",
        "            if token.pos_ == 'NOUN' and len(nouns) < 5:\n",
        "                nouns.append(word)\n",
        "            elif token.pos_ == 'VERB' and len(verbs) < 5:\n",
        "                verbs.append(word)\n",
        "        if len(nouns) >= 5 and len(verbs) >= 5:\n",
        "            break\n",
        "    return nouns, verbs\n",
        "\n",
        "# Function to save nouns and verbs to a text file\n",
        "def save_nouns_verbs(nouns, verbs, filepath):\n",
        "    with open(filepath, 'w') as f:\n",
        "        f.write(\"Nouns:\\n\")\n",
        "        f.write(\"\\n\".join(nouns))\n",
        "        f.write(\"\\n\\nVerbs:\\n\")\n",
        "        f.write(\"\\n\".join(verbs))\n",
        "\n",
        "\n",
        "# Identify nouns and verbs\n",
        "nouns, verbs = identify_nouns_verbs(vocab)\n",
        "\n",
        "# Print the nouns and verbs\n",
        "print(\"Nouns:\", nouns)\n",
        "print(\"Verbs:\", verbs)\n",
        "\n",
        "# Save the nouns and verbs to a text file\n",
        "save_nouns_verbs(nouns, verbs, OUTPUT_FILE)\n",
        "\n",
        "print(f\"Nouns and verbs saved to {OUTPUT_FILE}.\")\n",
        "\n"
      ],
      "metadata": {
        "colab": {
          "base_uri": "https://localhost:8080/"
        },
        "id": "OcLIpsa4WaHU",
        "outputId": "f7a429be-3590-4114-8f7e-8cbb40606c88"
      },
      "execution_count": null,
      "outputs": [
        {
          "output_type": "stream",
          "name": "stdout",
          "text": [
            "Loading preprocessed corpus from Drive...\n",
            "Nouns: ['patients', 'cells', 'covid', 'virus', 'data']\n",
            "Verbs: ['study', 'using', 'used', 'use', 'reported']\n",
            "Nouns and verbs saved to nouns_verbs.txt.\n"
          ]
        }
      ]
    },
    {
      "cell_type": "markdown",
      "source": [
        "# **Task (e)**"
      ],
      "metadata": {
        "id": "w_XQ2oe7qUCD"
      }
    },
    {
      "cell_type": "code",
      "source": [
        "import h5py\n",
        "import numpy as np\n",
        "\n",
        "# File paths\n",
        "COOCCURRENCE_MATRIX_FILE = '/content/drive/MyDrive/coals_data.h5'\n",
        "NOUNS_VERBS_FILE = '/content/nouns_verbs.txt'\n",
        "OUTPUT_FILE = '/content/similar_words.txt'\n",
        "\n",
        "# Load the co-occurrence matrix\n",
        "def load_cooccurrence_matrix(hdf5_file):\n",
        "    with h5py.File(hdf5_file, 'r') as f:\n",
        "        co_matrix = f['ratio_matrix_for_word_3500'][:]  # Change the dataset name if needed\n",
        "    return co_matrix\n",
        "\n",
        "# Function to calculate cosine distance using 1 - (||u - v||^2 / 2)\n",
        "def calculate_cosine_distance(matrix, word_idx):\n",
        "    target_vector = matrix[word_idx]\n",
        "\n",
        "    # Calculate squared Euclidean distances from target_vector to all other vectors\n",
        "    squared_diff = np.sum((matrix - target_vector) ** 2, axis=1)\n",
        "\n",
        "    # Calculate cosine distance\n",
        "    cosine_distance = 1 - (squared_diff / 2)\n",
        "\n",
        "    return cosine_distance\n",
        "\n",
        "# Load the nouns and verbs\n",
        "def load_nouns_verbs(filepath):\n",
        "    with open(filepath, 'r') as f:\n",
        "        words = f.read().splitlines()\n",
        "    return words\n",
        "\n",
        "# Function to find the top 5 similar words based on cosine distance\n",
        "def find_similar_words(vocab_list, matrix, word, vocab_dict, top_n=5):\n",
        "    if word not in vocab_dict:\n",
        "        return []\n",
        "\n",
        "    word_idx = vocab_dict[word]\n",
        "    distances = calculate_cosine_distance(matrix, word_idx)\n",
        "\n",
        "    # Exclude the word itself by setting its distance to -inf (cosine distance would be maximum)\n",
        "    distances[word_idx] = -np.inf\n",
        "\n",
        "    # Get the indices of the top 5 closest words (largest distances)\n",
        "    top_indices = np.argsort(distances)[-top_n:][::-1]\n",
        "\n",
        "    similar_words = [(vocab_list[idx], distances[idx]) for idx in top_indices]\n",
        "    return similar_words\n",
        "\n",
        "# Load the vocabulary and co-occurrence matrix\n",
        "print(\"Loading co-occurrence matrix...\")\n",
        "cooccurrence_matrix = load_cooccurrence_matrix(COOCCURRENCE_MATRIX_FILE)\n",
        "\n",
        "# Assume vocab_list and vocab_dict are derived from the same vocabulary used to build the co-occurrence matrix\n",
        "vocab_list = list(vocab.keys())  # Assuming 'vocab' is available from the previous context\n",
        "vocab_dict = {word: idx for idx, word in enumerate(vocab_list)}\n",
        "\n",
        "# Load nouns and verbs\n",
        "print(\"Loading nouns and verbs...\")\n",
        "nouns_verbs = load_nouns_verbs(NOUNS_VERBS_FILE)\n",
        "\n",
        "# Find and display similar words\n",
        "print(\"Finding similar words based on cosine distance...\")\n",
        "with open(OUTPUT_FILE, 'w') as f_out:\n",
        "    for word in nouns_verbs:\n",
        "        similar_words = find_similar_words(vocab_list, cooccurrence_matrix, word, vocab_dict)\n",
        "        if similar_words:\n",
        "            print(f\"Similar words for '{word}':\")\n",
        "            f_out.write(f\"Similar words for '{word}':\\n\")\n",
        "            for similar_word, distance in similar_words:\n",
        "                print(f\"{similar_word}: {distance}\")\n",
        "                f_out.write(f\"{similar_word}: {distance}\\n\")\n",
        "            print(\"\\n\")\n",
        "            f_out.write(\"\\n\")\n",
        "\n",
        "print(f\"Similar words have been saved to {OUTPUT_FILE}.\")\n"
      ],
      "metadata": {
        "colab": {
          "base_uri": "https://localhost:8080/"
        },
        "id": "e4zAm5jsYWuB",
        "outputId": "aff77a8d-caca-44ac-a6b2-f15261ea8ace"
      },
      "execution_count": null,
      "outputs": [
        {
          "output_type": "stream",
          "name": "stdout",
          "text": [
            "Loading co-occurrence matrix...\n",
            "Loading nouns and verbs...\n",
            "Finding similar words based on cosine distance...\n",
            "Similar words for 'patients':\n",
            "sought: 0.9981230610243619\n",
            "ahead: 0.9945533076609424\n",
            "ignored: 0.991518755989788\n",
            "continue: 0.9635189187693768\n",
            "minority: 0.9514920692741284\n",
            "\n",
            "\n",
            "Similar words for 'cells':\n",
            "cancer: 0.9999974840042554\n",
            "intervention: 0.9995189047019061\n",
            "government: 0.9986596737329173\n",
            "fusion: 0.9833550727120733\n",
            "peptide: 0.9723714163673701\n",
            "\n",
            "\n",
            "Similar words for 'covid':\n",
            "frequencies: 0.9988370492137987\n",
            "consistently: 0.9966708418506558\n",
            "entities: 0.9924832088335893\n",
            "appear: 0.986666176101029\n",
            "departments: 0.9866212454007681\n",
            "\n",
            "\n",
            "Similar words for 'virus':\n",
            "demonstration: 0.9824361007305897\n",
            "purchased: 0.9816007958785122\n",
            "persistence: 0.5460376032017947\n",
            "encephalitis: -0.11859414567302595\n",
            "monkeys: -1.4836089680643685\n",
            "\n",
            "\n",
            "Similar words for 'data':\n",
            "host: 0.99904160605853\n",
            "program: 0.998889519893873\n",
            "states: 0.9988412170186557\n",
            "vary: 0.9987000242715816\n",
            "reproduction: 0.998334468161543\n",
            "\n",
            "\n",
            "Similar words for 'study':\n",
            "prophylaxis: 0.9987624054374099\n",
            "damaged: 0.9824953638857052\n",
            "traditionally: 0.969277766213126\n",
            "years: 0.9471150179653444\n",
            "referred: 0.9405344054986063\n",
            "\n",
            "\n",
            "Similar words for 'using':\n",
            "prognosis: 0.9999128609882951\n",
            "mutations: 0.9997354758168719\n",
            "functional: 0.9983014085124838\n",
            "respond: 0.9591822975529527\n",
            "situations: 0.9466026374368042\n",
            "\n",
            "\n",
            "Similar words for 'used':\n",
            "techniques: 0.9997337400249151\n",
            "subjected: 0.9979803344318302\n",
            "successful: 0.9960501694698648\n",
            "date: 0.9941231181827422\n",
            "action: 0.9889994719971643\n",
            "\n",
            "\n",
            "Similar words for 'use':\n",
            "reliable: 0.9999784918009337\n",
            "architecture: 0.9999714277525096\n",
            "back: 0.9997861340569723\n",
            "agreement: 0.9997335729865326\n",
            "figs: 0.9996533062963814\n",
            "\n",
            "\n",
            "Similar words for 'reported':\n",
            "specify: 0.9992992767865418\n",
            "failure: 0.9984205016800693\n",
            "agerelated: 0.9887486389298532\n",
            "associations: 0.9812501929378078\n",
            "start: 0.9757301684332882\n",
            "\n",
            "\n",
            "Similar words have been saved to /content/similar_words.txt.\n"
          ]
        }
      ]
    },
    {
      "cell_type": "markdown",
      "source": [
        "# **Task (f)**"
      ],
      "metadata": {
        "id": "PUP2gENrp7dk"
      }
    },
    {
      "cell_type": "code",
      "source": [
        "import numpy as np\n",
        "import matplotlib.pyplot as plt\n",
        "from sklearn.manifold import MDS\n",
        "import h5py\n",
        "\n",
        "# Load the ratio matrix from the HDF5 file\n",
        "def load_ratio_matrix(hdf5_file):\n",
        "    with h5py.File(hdf5_file, 'r') as f:\n",
        "        ratio_matrix = f['ratio_matrix_for_word_3500'][:]  # Adjust dataset name as needed\n",
        "    return ratio_matrix\n",
        "\n",
        "# Find the most relevant words based on the ratio matrix\n",
        "def find_relevant_words(matrix, vocab_list, num_words=10):\n",
        "    word_indices = np.argsort(-matrix.sum(axis=1))[:num_words]\n",
        "    return [vocab_list[i] for i in word_indices]\n",
        "\n",
        "# Load your vocabulary list (make sure it's in the same order as when you built the matrix)\n",
        "vocab_list = [f\"word_{i}\" for i in range(7000)]  # Replace with your actual vocabulary list\n",
        "\n",
        "# Load the ratio matrix\n",
        "print(\"Loading ratio matrix...\")\n",
        "ratio_matrix = load_ratio_matrix('/content/drive/MyDrive/coals_data.h5')\n",
        "\n",
        "# Find the most relevant words for each concept\n",
        "num_words_per_concept = 10  # Adjust as needed\n",
        "health_words = find_relevant_words(ratio_matrix, vocab_list, num_words=num_words_per_concept)\n",
        "society_words = find_relevant_words(ratio_matrix.T, vocab_list, num_words=num_words_per_concept)\n",
        "research_words = find_relevant_words(ratio_matrix, vocab_list[::-1], num_words=num_words_per_concept)\n",
        "\n",
        "# Combine all selected words\n",
        "all_words = health_words + society_words + research_words\n",
        "all_indices = [vocab_list.index(word) for word in all_words]\n",
        "\n",
        "# Create a similarity matrix for the selected words\n",
        "similarity_matrix = ratio_matrix[np.ix_(all_indices, all_indices)]\n",
        "\n",
        "# Convert similarity to distance (1 - similarity)\n",
        "distance_matrix = 1 - similarity_matrix\n",
        "\n",
        "# Apply MDS\n",
        "mds = MDS(n_components=2, random_state=42)\n",
        "pos = mds.fit_transform(distance_matrix)\n",
        "\n",
        "# Assign colors to each concept\n",
        "concept_colors = ['red'] * len(health_words) + ['green'] * len(society_words) + ['blue'] * len(research_words)\n",
        "\n",
        "# Plot the results with color coding\n",
        "plt.figure(figsize=(10, 8))\n",
        "for i, (x, y) in enumerate(pos):\n",
        "    plt.scatter(x, y, color=concept_colors[i], label=all_words[i] if i == 0 else \"\", s=50)  # Use label only once per color for legend\n",
        "    plt.annotate(all_words[i], (x, y), fontsize=10, ha='right')\n",
        "\n",
        "# Create a legend for the color-coded concepts\n",
        "handles = [\n",
        "    plt.Line2D([0], [0], marker='o', color='w', markerfacecolor='red', markersize=10, label='Health'),\n",
        "    plt.Line2D([0], [0], marker='o', color='w', markerfacecolor='green', markersize=10, label='Society'),\n",
        "    plt.Line2D([0], [0], marker='o', color='w', markerfacecolor='blue', markersize=10, label='Research')\n",
        "]\n",
        "plt.legend(handles=handles, title=\"Concepts\", loc=\"upper right\")\n",
        "\n",
        "plt.title(\"MDS Visualization of COVID-19 Concepts Using Ratio Matrix\")\n",
        "plt.xlabel(\"Dimension 1\")\n",
        "plt.ylabel(\"Dimension 2\")\n",
        "plt.grid(True)\n",
        "plt.show()"
      ],
      "metadata": {
        "colab": {
          "base_uri": "https://localhost:8080/",
          "height": 342
        },
        "id": "EqSeE4Pmo0T2",
        "outputId": "54543fdf-0f3f-408c-a21c-4ef2fe932d01"
      },
      "execution_count": null,
      "outputs": [
        {
          "output_type": "stream",
          "name": "stdout",
          "text": [
            "Loading ratio matrix...\n"
          ]
        },
        {
          "output_type": "stream",
          "name": "stderr",
          "text": [
            "/usr/local/lib/python3.10/dist-packages/sklearn/manifold/_mds.py:601: UserWarning: The MDS API has changed. ``fit`` now constructs an dissimilarity matrix from data. To use a custom dissimilarity matrix, set ``dissimilarity='precomputed'``.\n",
            "  warnings.warn(\n",
            "/usr/local/lib/python3.10/dist-packages/sklearn/manifold/_mds.py:298: FutureWarning: The default value of `normalized_stress` will change to `'auto'` in version 1.4. To suppress this warning, manually set the value of `normalized_stress`.\n",
            "  warnings.warn(\n"
          ]
        },
        {
          "output_type": "display_data",
          "data": {
            "text/plain": [
              "<Figure size 1000x800 with 1 Axes>"
            ],
            "image/png": "[encoded data removed]"
          },
          "metadata": {}
        }
      ]
    }
  ]
}